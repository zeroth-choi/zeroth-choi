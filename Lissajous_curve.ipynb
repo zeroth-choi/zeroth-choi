{
 "cells": [
  {
   "cell_type": "markdown",
   "id": "brief-precipitation",
   "metadata": {
    "toc": true
   },
   "source": [
    "<h1>Table of Contents<span class=\"tocSkip\"></span></h1>\n",
    "<div class=\"toc\"><ul class=\"toc-item\"><li><span><a href=\"#Turtle-Graphics\" data-toc-modified-id=\"Turtle-Graphics-1\"><span class=\"toc-item-num\">1&nbsp;&nbsp;</span>Turtle Graphics</a></span></li><li><span><a href=\"#Circle\" data-toc-modified-id=\"Circle-2\"><span class=\"toc-item-num\">2&nbsp;&nbsp;</span>Circle</a></span></li><li><span><a href=\"#Ellipse\" data-toc-modified-id=\"Ellipse-3\"><span class=\"toc-item-num\">3&nbsp;&nbsp;</span>Ellipse</a></span><ul class=\"toc-item\"><li><span><a href=\"#Turtle-Method\" data-toc-modified-id=\"Turtle-Method-3.1\"><span class=\"toc-item-num\">3.1&nbsp;&nbsp;</span>Turtle Method</a></span></li><li><span><a href=\"#Vector-Method\" data-toc-modified-id=\"Vector-Method-3.2\"><span class=\"toc-item-num\">3.2&nbsp;&nbsp;</span>Vector Method</a></span></li><li><span><a href=\"#a-tangent-method\" data-toc-modified-id=\"a-tangent-method-3.3\"><span class=\"toc-item-num\">3.3&nbsp;&nbsp;</span>a tangent method</a></span></li></ul></li><li><span><a href=\"#Lissajous-curves\" data-toc-modified-id=\"Lissajous-curves-4\"><span class=\"toc-item-num\">4&nbsp;&nbsp;</span>Lissajous curves</a></span><ul class=\"toc-item\"><li><span><a href=\"#coordinate-method\" data-toc-modified-id=\"coordinate-method-4.1\"><span class=\"toc-item-num\">4.1&nbsp;&nbsp;</span>coordinate method</a></span></li><li><span><a href=\"#vector-method\" data-toc-modified-id=\"vector-method-4.2\"><span class=\"toc-item-num\">4.2&nbsp;&nbsp;</span>vector method</a></span></li></ul></li></ul></div>"
   ]
  },
  {
   "cell_type": "markdown",
   "id": "quarterly-specialist",
   "metadata": {},
   "source": [
    "## Turtle Graphics\n",
    "\n",
    "[Turtle graphics — Python documentation](https://docs.python.org/3/library/turtle.html)"
   ]
  },
  {
   "cell_type": "code",
   "execution_count": 1,
   "id": "prescribed-proxy",
   "metadata": {
    "ExecuteTime": {
     "end_time": "2021-05-10T06:50:21.674923Z",
     "start_time": "2021-05-10T06:50:21.648879Z"
    }
   },
   "outputs": [],
   "source": [
    "from math import sin, cos, pi, radians"
   ]
  },
  {
   "cell_type": "code",
   "execution_count": 2,
   "id": "meaning-possible",
   "metadata": {
    "ExecuteTime": {
     "end_time": "2021-05-10T06:50:22.310274Z",
     "start_time": "2021-05-10T06:50:22.277255Z"
    }
   },
   "outputs": [],
   "source": [
    "import turtle"
   ]
  },
  {
   "cell_type": "code",
   "execution_count": 3,
   "id": "fifteen-relations",
   "metadata": {
    "ExecuteTime": {
     "end_time": "2021-05-10T06:50:23.649627Z",
     "start_time": "2021-05-10T06:50:23.633657Z"
    },
    "scrolled": false
   },
   "outputs": [
    {
     "data": {
      "text/plain": [
       "['Canvas',\n",
       " 'Pen',\n",
       " 'RawPen',\n",
       " 'RawTurtle',\n",
       " 'Screen',\n",
       " 'ScrolledCanvas',\n",
       " 'Shape',\n",
       " 'TK',\n",
       " 'TNavigator',\n",
       " 'TPen',\n",
       " 'Tbuffer',\n",
       " 'Terminator',\n",
       " 'Turtle',\n",
       " 'TurtleGraphicsError',\n",
       " 'TurtleScreen',\n",
       " 'TurtleScreenBase',\n",
       " 'Vec2D',\n",
       " '_CFG',\n",
       " '_LANGUAGE',\n",
       " '_Root',\n",
       " '_Screen',\n",
       " '_TurtleImage',\n",
       " '__all__',\n",
       " '__builtins__',\n",
       " '__cached__',\n",
       " '__doc__',\n",
       " '__file__',\n",
       " '__forwardmethods',\n",
       " '__func_body',\n",
       " '__loader__',\n",
       " '__methodDict',\n",
       " '__methods',\n",
       " '__name__',\n",
       " '__package__',\n",
       " '__spec__',\n",
       " '__stringBody',\n",
       " '_alias_list',\n",
       " '_make_global_funcs',\n",
       " '_screen_docrevise',\n",
       " '_tg_classes',\n",
       " '_tg_screen_functions',\n",
       " '_tg_turtle_functions',\n",
       " '_tg_utilities',\n",
       " '_turtle_docrevise',\n",
       " '_ver',\n",
       " 'addshape',\n",
       " 'back',\n",
       " 'backward',\n",
       " 'begin_fill',\n",
       " 'begin_poly',\n",
       " 'bgcolor',\n",
       " 'bgpic',\n",
       " 'bk',\n",
       " 'bye',\n",
       " 'circle',\n",
       " 'clear',\n",
       " 'clearscreen',\n",
       " 'clearstamp',\n",
       " 'clearstamps',\n",
       " 'clone',\n",
       " 'color',\n",
       " 'colormode',\n",
       " 'config_dict',\n",
       " 'deepcopy',\n",
       " 'degrees',\n",
       " 'delay',\n",
       " 'distance',\n",
       " 'done',\n",
       " 'dot',\n",
       " 'down',\n",
       " 'end_fill',\n",
       " 'end_poly',\n",
       " 'exitonclick',\n",
       " 'fd',\n",
       " 'fillcolor',\n",
       " 'filling',\n",
       " 'forward',\n",
       " 'get_poly',\n",
       " 'get_shapepoly',\n",
       " 'getcanvas',\n",
       " 'getmethparlist',\n",
       " 'getpen',\n",
       " 'getscreen',\n",
       " 'getshapes',\n",
       " 'getturtle',\n",
       " 'goto',\n",
       " 'heading',\n",
       " 'hideturtle',\n",
       " 'home',\n",
       " 'ht',\n",
       " 'inspect',\n",
       " 'isdown',\n",
       " 'isfile',\n",
       " 'isvisible',\n",
       " 'join',\n",
       " 'left',\n",
       " 'listen',\n",
       " 'lt',\n",
       " 'mainloop',\n",
       " 'math',\n",
       " 'mode',\n",
       " 'numinput',\n",
       " 'onclick',\n",
       " 'ondrag',\n",
       " 'onkey',\n",
       " 'onkeypress',\n",
       " 'onkeyrelease',\n",
       " 'onrelease',\n",
       " 'onscreenclick',\n",
       " 'ontimer',\n",
       " 'pd',\n",
       " 'pen',\n",
       " 'pencolor',\n",
       " 'pendown',\n",
       " 'pensize',\n",
       " 'penup',\n",
       " 'pos',\n",
       " 'position',\n",
       " 'pu',\n",
       " 'radians',\n",
       " 'read_docstrings',\n",
       " 'readconfig',\n",
       " 'register_shape',\n",
       " 'reset',\n",
       " 'resetscreen',\n",
       " 'resizemode',\n",
       " 'right',\n",
       " 'rt',\n",
       " 'screensize',\n",
       " 'seth',\n",
       " 'setheading',\n",
       " 'setpos',\n",
       " 'setposition',\n",
       " 'settiltangle',\n",
       " 'setundobuffer',\n",
       " 'setup',\n",
       " 'setworldcoordinates',\n",
       " 'setx',\n",
       " 'sety',\n",
       " 'shape',\n",
       " 'shapesize',\n",
       " 'shapetransform',\n",
       " 'shearfactor',\n",
       " 'showturtle',\n",
       " 'simpledialog',\n",
       " 'speed',\n",
       " 'split',\n",
       " 'st',\n",
       " 'stamp',\n",
       " 'sys',\n",
       " 'textinput',\n",
       " 'tilt',\n",
       " 'tiltangle',\n",
       " 'time',\n",
       " 'title',\n",
       " 'towards',\n",
       " 'tracer',\n",
       " 'turtles',\n",
       " 'turtlesize',\n",
       " 'types',\n",
       " 'undo',\n",
       " 'undobufferentries',\n",
       " 'up',\n",
       " 'update',\n",
       " 'width',\n",
       " 'window_height',\n",
       " 'window_width',\n",
       " 'write',\n",
       " 'write_docstringdict',\n",
       " 'xcor',\n",
       " 'ycor']"
      ]
     },
     "execution_count": 3,
     "metadata": {},
     "output_type": "execute_result"
    }
   ],
   "source": [
    "dir(turtle)"
   ]
  },
  {
   "cell_type": "markdown",
   "id": "informational-makeup",
   "metadata": {},
   "source": [
    "## Circle"
   ]
  },
  {
   "cell_type": "markdown",
   "id": "separated-chorus",
   "metadata": {},
   "source": [
    "내접 정다각형"
   ]
  },
  {
   "cell_type": "code",
   "execution_count": 23,
   "id": "certified-velvet",
   "metadata": {
    "ExecuteTime": {
     "end_time": "2021-05-09T00:36:37.883186Z",
     "start_time": "2021-05-09T00:36:37.777061Z"
    }
   },
   "outputs": [],
   "source": [
    "#window = turtle.getscreen()\n",
    "#window.bgcolor(\"#FFFFFF\")\n",
    "myPen = turtle.Turtle()\n",
    "myPen.hideturtle()\n",
    "myPen.speed(0)\n",
    "myPen.pensize(3)\n",
    "myPen.color(\"#AA00AA\")"
   ]
  },
  {
   "cell_type": "code",
   "execution_count": 24,
   "id": "racial-blackjack",
   "metadata": {
    "ExecuteTime": {
     "end_time": "2021-05-09T00:36:38.803077Z",
     "start_time": "2021-05-09T00:36:38.795059Z"
    }
   },
   "outputs": [],
   "source": [
    "def Circle (r, theta):\n",
    "    myPen.penup()\n",
    "    myPen.forward(r)       # move the center of the figure\n",
    "    myPen.left(90)\n",
    "    myPen.pendown()\n",
    "    d = 2 * r * sin(radians(theta / 2))\n",
    "    for i in range(int(360 / delta)):\n",
    "        myPen.left(theta / 2)\n",
    "        myPen.forward(d)\n",
    "        myPen.left(theta / 2)"
   ]
  },
  {
   "cell_type": "code",
   "execution_count": 25,
   "id": "colonial-monte",
   "metadata": {
    "ExecuteTime": {
     "end_time": "2021-05-09T00:38:27.409511Z",
     "start_time": "2021-05-09T00:36:39.726029Z"
    }
   },
   "outputs": [],
   "source": [
    "Circle(100, 2)"
   ]
  },
  {
   "cell_type": "code",
   "execution_count": 26,
   "id": "strange-alabama",
   "metadata": {
    "ExecuteTime": {
     "end_time": "2021-05-09T00:38:27.441095Z",
     "start_time": "2021-05-09T00:38:27.416502Z"
    }
   },
   "outputs": [],
   "source": [
    "turtle.clearscreen()"
   ]
  },
  {
   "cell_type": "markdown",
   "id": "competitive-metadata",
   "metadata": {},
   "source": [
    "## Ellipse"
   ]
  },
  {
   "cell_type": "markdown",
   "id": "governmental-carry",
   "metadata": {},
   "source": [
    "### Turtle Method\n",
    "Harold Abelson and Andrea diSessa, Turle Geometry, The MIT Press, 1983, p. 440"
   ]
  },
  {
   "cell_type": "code",
   "execution_count": 8,
   "id": "cloudy-virginia",
   "metadata": {
    "ExecuteTime": {
     "end_time": "2021-05-09T05:50:30.960244Z",
     "start_time": "2021-05-09T05:50:30.859360Z"
    }
   },
   "outputs": [],
   "source": [
    "#window = turtle.getscreen()\n",
    "#window.bgcolor(\"#FFFFFF\")\n",
    "myPen = turtle.Turtle()\n",
    "myPen.hideturtle()\n",
    "myPen.speed(0)\n",
    "myPen.pensize(3)\n",
    "myPen.color(\"#AA00AA\")"
   ]
  },
  {
   "cell_type": "code",
   "execution_count": 9,
   "id": "nervous-strengthening",
   "metadata": {
    "ExecuteTime": {
     "end_time": "2021-05-09T05:50:31.381134Z",
     "start_time": "2021-05-09T05:50:31.374153Z"
    }
   },
   "outputs": [],
   "source": [
    "def ELLIPSE (SIDE, R, ANGLE):\n",
    "    myPen.penup()\n",
    "    myPen.home()\n",
    "    myPen.forward(SIDE*(1-R)*180/ANGLE/pi)   # move the center of the figure\n",
    "    myPen.left(90)\n",
    "    myPen.pendown()\n",
    "    for i in range(360):\n",
    "        myPen.left(i * ANGLE)\n",
    "        myPen.forward(SIDE)\n",
    "        myPen.right(2 * i * ANGLE)\n",
    "        myPen.forward(SIDE * R)\n",
    "        myPen.left(i * ANGLE)"
   ]
  },
  {
   "cell_type": "markdown",
   "id": "continental-waste",
   "metadata": {},
   "source": [
    "For small SIDE$=S$, ANGLE=$\\theta$ and $0\\leq R<1$,  \n",
    "$x_N=(S-S R)\\sum_{i=0}^N \\left(-\\sin\\frac{\\pi \\theta i}{180}\\right)\\sim S(1-R)\\frac{180}{\\pi \\theta}\\left(\\cos\\frac{\\pi \\theta N}{180}-1\\right)$  \n",
    "$y_N=(S+S R)\\sum_{i=0}^N \\cos\\frac{\\pi \\theta i}{180}\\sim S(1+R)\\frac{180}{\\pi \\theta}\\sin\\frac{\\pi \\theta N}{180}$  \n",
    "$\\therefore$ ellipse"
   ]
  },
  {
   "cell_type": "code",
   "execution_count": 10,
   "id": "entertaining-prediction",
   "metadata": {
    "ExecuteTime": {
     "end_time": "2021-05-09T05:51:02.349439Z",
     "start_time": "2021-05-09T05:50:33.128361Z"
    }
   },
   "outputs": [],
   "source": [
    "ELLIPSE(2, 0.2, 1)"
   ]
  },
  {
   "cell_type": "code",
   "execution_count": 7,
   "id": "satisfactory-headset",
   "metadata": {
    "ExecuteTime": {
     "end_time": "2021-05-09T05:50:25.967973Z",
     "start_time": "2021-05-09T05:50:25.948022Z"
    }
   },
   "outputs": [],
   "source": [
    "turtle.clearscreen()"
   ]
  },
  {
   "cell_type": "markdown",
   "id": "systematic-fraud",
   "metadata": {},
   "source": [
    "### Vector Method\n",
    "Harold Abelson and Andrea diSessa, Turle Geometry, The MIT Press, 1983, pp. 114, 136, 451"
   ]
  },
  {
   "cell_type": "code",
   "execution_count": 95,
   "id": "completed-assistant",
   "metadata": {
    "ExecuteTime": {
     "end_time": "2021-05-09T02:09:57.843543Z",
     "start_time": "2021-05-09T02:09:57.739819Z"
    }
   },
   "outputs": [],
   "source": [
    "#window = turtle.getscreen()\n",
    "#window.bgcolor(\"#FFFFFF\")\n",
    "myPen = turtle.Turtle()\n",
    "myPen.hideturtle()\n",
    "myPen.speed(0)\n",
    "myPen.pensize(3)\n",
    "myPen.color(\"#AA00AA\")"
   ]
  },
  {
   "cell_type": "code",
   "execution_count": 96,
   "id": "demanding-trade",
   "metadata": {
    "ExecuteTime": {
     "end_time": "2021-05-09T02:09:58.233411Z",
     "start_time": "2021-05-09T02:09:58.219242Z"
    }
   },
   "outputs": [],
   "source": [
    "def vector (DIRECTION, LENGTH):\n",
    "    myPen.setheading(DIRECTION)\n",
    "    myPen.forward(LENGTH)"
   ]
  },
  {
   "cell_type": "code",
   "execution_count": 97,
   "id": "complicated-sauce",
   "metadata": {
    "ExecuteTime": {
     "end_time": "2021-05-09T02:09:58.949613Z",
     "start_time": "2021-05-09T02:09:58.938312Z"
    }
   },
   "outputs": [],
   "source": [
    "def DUOPOLY (SIDE1, ANGLE1, SIDE2, ANGLE2):\n",
    "    myPen.penup()\n",
    "    myPen.home()\n",
    "    myPen.forward((SIDE1 / ANGLE1 + SIDE2 / ANGLE2) * 180 / pi)   # move the center of the figure\n",
    "    myPen.left(90)\n",
    "    myPen.pendown()\n",
    "    for i in range(360):\n",
    "        vector (i * ANGLE1 + 90, SIDE1)\n",
    "        vector (i * ANGLE2 + 90, SIDE2)"
   ]
  },
  {
   "cell_type": "markdown",
   "id": "thirty-prescription",
   "metadata": {},
   "source": [
    "For small SIDE1$=S1$, SIDE2$=S2$, ANGLE1$=-$ANGLE2$=\\theta$,  \n",
    "$x_N=(S1-S2)\\sum_{i=0}^N \\left(-\\sin\\frac{\\pi \\theta i}{180}\\right)\\sim (S1-S2)\\frac{180}{\\pi \\theta}\\left(\\cos\\frac{\\pi \\theta N}{180}-1\\right)$  \n",
    "$y_N=(S1+S2)\\sum_{i=0}^N \\cos\\frac{\\pi \\theta i}{180}\\sim (S1+S2)\\frac{180}{\\pi \\theta}\\sin\\frac{\\pi \\theta N}{180}$  \n",
    "$\\therefore$ ellipse"
   ]
  },
  {
   "cell_type": "code",
   "execution_count": 98,
   "id": "competitive-knowing",
   "metadata": {
    "ExecuteTime": {
     "end_time": "2021-05-09T02:10:25.665235Z",
     "start_time": "2021-05-09T02:10:00.538183Z"
    }
   },
   "outputs": [],
   "source": [
    "DUOPOLY(4, 2, 0.5, -2) # ellipse for ANGLE1 = -ANGLE2"
   ]
  },
  {
   "cell_type": "code",
   "execution_count": 94,
   "id": "natural-hungarian",
   "metadata": {
    "ExecuteTime": {
     "end_time": "2021-05-09T02:09:54.933795Z",
     "start_time": "2021-05-09T02:09:54.895541Z"
    }
   },
   "outputs": [],
   "source": [
    "turtle.clearscreen()"
   ]
  },
  {
   "cell_type": "code",
   "execution_count": 15,
   "id": "touched-arkansas",
   "metadata": {
    "ExecuteTime": {
     "end_time": "2021-05-09T00:35:01.497538Z",
     "start_time": "2021-05-09T00:34:32.773377Z"
    }
   },
   "outputs": [],
   "source": [
    "DUOPOLY(4, 2, 0, -2) # circle"
   ]
  },
  {
   "cell_type": "code",
   "execution_count": 16,
   "id": "alternate-morgan",
   "metadata": {
    "ExecuteTime": {
     "end_time": "2021-05-09T00:35:01.590816Z",
     "start_time": "2021-05-09T00:35:01.579325Z"
    }
   },
   "outputs": [],
   "source": [
    "turtle.clearscreen()"
   ]
  },
  {
   "cell_type": "code",
   "execution_count": 17,
   "id": "dress-humanitarian",
   "metadata": {
    "ExecuteTime": {
     "end_time": "2021-05-09T00:35:25.963779Z",
     "start_time": "2021-05-09T00:35:02.247564Z"
    }
   },
   "outputs": [],
   "source": [
    "DUOPOLY(4, 2, 4, 2) # circle"
   ]
  },
  {
   "cell_type": "code",
   "execution_count": 18,
   "id": "bacterial-tablet",
   "metadata": {
    "ExecuteTime": {
     "end_time": "2021-05-09T00:35:40.992322Z",
     "start_time": "2021-05-09T00:35:40.966473Z"
    }
   },
   "outputs": [],
   "source": [
    "turtle.clearscreen()"
   ]
  },
  {
   "cell_type": "code",
   "execution_count": 19,
   "id": "extreme-shell",
   "metadata": {
    "ExecuteTime": {
     "end_time": "2021-05-09T00:36:05.012650Z",
     "start_time": "2021-05-09T00:35:41.846109Z"
    }
   },
   "outputs": [],
   "source": [
    "DUOPOLY(4, 3, 2, 1)"
   ]
  },
  {
   "cell_type": "code",
   "execution_count": 20,
   "id": "sudden-western",
   "metadata": {
    "ExecuteTime": {
     "end_time": "2021-05-09T00:36:05.058332Z",
     "start_time": "2021-05-09T00:36:05.024454Z"
    }
   },
   "outputs": [],
   "source": [
    "turtle.clearscreen()"
   ]
  },
  {
   "cell_type": "code",
   "execution_count": 21,
   "id": "purple-unemployment",
   "metadata": {
    "ExecuteTime": {
     "end_time": "2021-05-09T00:36:32.077558Z",
     "start_time": "2021-05-09T00:36:08.937081Z"
    }
   },
   "outputs": [],
   "source": [
    "DUOPOLY(4, 2, 2, -1)   # three lobes"
   ]
  },
  {
   "cell_type": "code",
   "execution_count": 22,
   "id": "sweet-energy",
   "metadata": {
    "ExecuteTime": {
     "end_time": "2021-05-09T00:36:32.123970Z",
     "start_time": "2021-05-09T00:36:32.089465Z"
    }
   },
   "outputs": [],
   "source": [
    "turtle.clearscreen()"
   ]
  },
  {
   "cell_type": "markdown",
   "id": "electoral-romantic",
   "metadata": {},
   "source": [
    "### a tangent method"
   ]
  },
  {
   "cell_type": "markdown",
   "id": "indoor-container",
   "metadata": {},
   "source": [
    "2021.5.7.  \n",
    "$x=a \\cos t$, $y=b \\sin t$  \n",
    "$dx=-a\\sin t~ dt$, $dy=b\\cos t~ dt$  \n",
    "$\\theta$ : the angle of the tangent from the $y$ axis in the counterclockwise direction   \n",
    "$ \\tan\\theta=-\\frac{dx}{dy}=\\frac{a}{b}\\tan t$  \n",
    "$(1+\\tan^2\\theta)d\\theta=\\frac{a}{b}(1+\\tan^2 t)dt =\\frac{a}{b}(1+\\frac{b^2}{a^2}\\tan^2 \\theta)dt$  \n",
    "$ds=\\sqrt{(dx)^2+(dy)^2}=\\sqrt{(a\\sin t)^2+(b\\cos t)^2}dt$  \n",
    "$(a\\sin t)^2+(b\\cos t)^2=a^2\\frac{\\tan^2 t}{1+\\tan^2 t}+b^2\\frac{1}{1+\\tan^2 t}=(ab)^2\\frac{\\tan^2\\theta+1}{a^2+b^2\\tan^2\\theta}$  \n",
    "$ds=\\frac{(ab)^2}{(a^2\\cos^2\\theta+b^2\\sin^2\\theta)^{3/2}}d\\theta$"
   ]
  },
  {
   "cell_type": "code",
   "execution_count": 27,
   "id": "trained-bahrain",
   "metadata": {
    "ExecuteTime": {
     "end_time": "2021-05-09T00:38:27.565711Z",
     "start_time": "2021-05-09T00:38:27.445163Z"
    }
   },
   "outputs": [],
   "source": [
    "#window = turtle.getscreen()\n",
    "#window.bgcolor(\"#FFFFFF\")\n",
    "myPen = turtle.Turtle()\n",
    "myPen.hideturtle()\n",
    "myPen.speed(0)\n",
    "myPen.pensize(3)\n",
    "myPen.color(\"#AA00AA\")"
   ]
  },
  {
   "cell_type": "code",
   "execution_count": 28,
   "id": "indie-chart",
   "metadata": {
    "ExecuteTime": {
     "end_time": "2021-05-09T00:38:27.596638Z",
     "start_time": "2021-05-09T00:38:27.571702Z"
    }
   },
   "outputs": [],
   "source": [
    "delta = 2    # delta theta in degree\n",
    "def Ellipse (a, b):\n",
    "    myPen.home()\n",
    "    myPen.penup()\n",
    "    myPen.forward(a)    # move the center of the figure\n",
    "    myPen.left(90)\n",
    "    myPen.pendown()\n",
    "    for i in range(int(360 / delta)):\n",
    "        theta = radians(i * delta)\n",
    "        myPen.left(delta / 2)\n",
    "        myPen.forward(radians(delta)*(a*b)**2/((a*cos(theta))**2+(b*sin(theta))**2)**(3/2))\n",
    "        myPen.left(delta / 2)"
   ]
  },
  {
   "cell_type": "code",
   "execution_count": 31,
   "id": "upset-treasury",
   "metadata": {
    "ExecuteTime": {
     "end_time": "2021-05-09T00:39:37.261929Z",
     "start_time": "2021-05-09T00:39:28.133998Z"
    }
   },
   "outputs": [],
   "source": [
    "Ellipse(100, 150)"
   ]
  },
  {
   "cell_type": "code",
   "execution_count": 32,
   "id": "fifty-drinking",
   "metadata": {
    "ExecuteTime": {
     "end_time": "2021-05-09T00:39:47.103799Z",
     "start_time": "2021-05-09T00:39:47.074674Z"
    }
   },
   "outputs": [],
   "source": [
    "turtle.clearscreen()"
   ]
  },
  {
   "cell_type": "markdown",
   "id": "internal-satellite",
   "metadata": {},
   "source": [
    "## Lissajous curves"
   ]
  },
  {
   "cell_type": "markdown",
   "id": "opening-spring",
   "metadata": {},
   "source": [
    "$x=A \\sin(a t+\\delta)=A\\cos\\delta\\sin(at)+A\\sin\\delta\\cos(at)$   \n",
    "$y=B \\sin (b t)$  \n",
    "$dx=-A a\\cos(a t+\\delta)~dt$, $dy=-B b \\cos(bt)~dt$  \n",
    "$\\theta$ : the angle of the tangent from the $y$ axis in the counterclockwise direction   \n",
    "$ \\tan\\theta=-\\frac{dx}{dy}=\\frac{A a}{B b}\\frac{\\cos(a t+\\delta)}{\\cos(bt)}$  \n",
    "$d\\theta = $  \n",
    "$ds=\\sqrt{(dx)^2+(dy)^2}=\\sqrt{(A a)^2 \\cos^2(a t+\\delta)+(B b )^2 \\cos^2(bt)}dt$  "
   ]
  },
  {
   "cell_type": "markdown",
   "id": "incident-tennis",
   "metadata": {},
   "source": [
    "### coordinate method\n",
    "[Lissajous Curve Tracing Algorithm](https://www.101computing.net/python-turtle-lissajous-curve/)"
   ]
  },
  {
   "cell_type": "code",
   "execution_count": 34,
   "id": "disabled-death",
   "metadata": {
    "ExecuteTime": {
     "end_time": "2021-05-09T00:39:51.642707Z",
     "start_time": "2021-05-09T00:39:51.542257Z"
    }
   },
   "outputs": [],
   "source": [
    "#window = turtle.getscreen()\n",
    "#window.bgcolor(\"#FFFFFF\")\n",
    "\n",
    "myPen = turtle.Turtle()\n",
    "myPen.hideturtle()\n",
    "#turtle.tracer(0)\n",
    "myPen.speed(0)\n",
    "myPen.pensize(3)\n",
    "myPen.color(\"#AA00AA\")"
   ]
  },
  {
   "cell_type": "code",
   "execution_count": 35,
   "id": "historical-february",
   "metadata": {
    "ExecuteTime": {
     "end_time": "2021-05-09T00:40:17.909073Z",
     "start_time": "2021-05-09T00:39:52.441980Z"
    }
   },
   "outputs": [],
   "source": [
    "myPen.penup()\n",
    "\n",
    "A = 100\n",
    "B = 100\n",
    "a = 7 \n",
    "b = 5\n",
    "delta = 3.14/2\n",
    "t=0\n",
    "\n",
    "for i in range(0,1000):\n",
    "    t += 0.01\n",
    "    #Apply Lissajous Parametric Equations\n",
    "    x = A * sin(a * t + delta) \n",
    "    y = B * sin(b * t) \n",
    "\n",
    "    myPen.goto(x, y)\n",
    "    myPen.pendown()\n",
    "    myPen.getscreen().update()"
   ]
  },
  {
   "cell_type": "code",
   "execution_count": 99,
   "id": "broad-ideal",
   "metadata": {
    "ExecuteTime": {
     "end_time": "2021-05-09T02:11:43.989424Z",
     "start_time": "2021-05-09T02:11:43.965416Z"
    }
   },
   "outputs": [],
   "source": [
    "turtle.clearscreen()"
   ]
  },
  {
   "cell_type": "markdown",
   "id": "stable-estate",
   "metadata": {},
   "source": [
    "###  vector method"
   ]
  },
  {
   "cell_type": "code",
   "execution_count": 4,
   "id": "above-spirituality",
   "metadata": {
    "ExecuteTime": {
     "end_time": "2021-05-10T06:50:31.282105Z",
     "start_time": "2021-05-10T06:50:31.062280Z"
    }
   },
   "outputs": [],
   "source": [
    "#window = turtle.getscreen()\n",
    "#window.bgcolor(\"#FFFFFF\")\n",
    "myPen = turtle.Turtle()\n",
    "myPen.hideturtle()\n",
    "myPen.speed(0)\n",
    "myPen.pensize(1)\n",
    "myPen.color(\"#AA00AA\")"
   ]
  },
  {
   "cell_type": "code",
   "execution_count": 7,
   "id": "marked-pottery",
   "metadata": {
    "ExecuteTime": {
     "end_time": "2021-05-10T06:56:12.022186Z",
     "start_time": "2021-05-10T06:56:11.850944Z"
    }
   },
   "outputs": [],
   "source": [
    "xRotor = turtle.Turtle()\n",
    "xRotor.hideturtle()\n",
    "xRotor.speed(0)\n",
    "xRotor.penup()\n",
    "yRotor = turtle.Turtle()\n",
    "yRotor.hideturtle()\n",
    "yRotor.speed(0)\n",
    "yRotor.penup()\n",
    "def xVector (DIRECTION, LENGTH):\n",
    "    xRotor.home()\n",
    "    xRotor.setheading(DIRECTION)\n",
    "    xRotor.forward(LENGTH)\n",
    "def yVector (DIRECTION, LENGTH):\n",
    "    yRotor.home()\n",
    "    yRotor.setheading(DIRECTION)\n",
    "    yRotor.forward(LENGTH)"
   ]
  },
  {
   "cell_type": "code",
   "execution_count": 8,
   "id": "spatial-termination",
   "metadata": {
    "ExecuteTime": {
     "end_time": "2021-05-10T06:56:13.144080Z",
     "start_time": "2021-05-10T06:56:13.124295Z"
    }
   },
   "outputs": [],
   "source": [
    "def Lissajous (A, B, a, b, delta, theta):\n",
    "    myPen.penup()\n",
    "    myPen.home()\n",
    "    myPen.forward(A * 180 / (pi * a * theta) * sin(delta))   # move the center of the figure\n",
    "    for i in range(int(360 / theta) + 2):\n",
    "        xVector(a * theta * i + delta, A)\n",
    "        yVector(b * theta * i, B)\n",
    "        myPen.forward(xRotor.xcor())\n",
    "        myPen.left(90)\n",
    "        myPen.forward(yRotor.xcor())\n",
    "        myPen.right(90)\n",
    "        myPen.dot(3)"
   ]
  },
  {
   "cell_type": "markdown",
   "id": "impossible-saying",
   "metadata": {},
   "source": [
    "2021.5.9.  \n",
    "For small$A, B, \\theta$,  \n",
    "$x_N=A\\sum_{i=0}^N \\cos\\frac{\\pi (a\\theta i+\\delta)}{180}\\sim A\\frac{180}{\\pi a\\theta}\\sin\\frac{\\pi (a\\theta N+\\delta)}{180}$  \n",
    "$y_N=B\\sum_{i=0}^N \\cos\\frac{\\pi (b\\theta i)}{180}\\sim B\\frac{180}{\\pi b\\theta}\\sin\\frac{\\pi (b\\theta N)}{180}$  "
   ]
  },
  {
   "cell_type": "code",
   "execution_count": 9,
   "id": "likely-henry",
   "metadata": {
    "ExecuteTime": {
     "end_time": "2021-05-10T06:59:24.385259Z",
     "start_time": "2021-05-10T06:56:18.229355Z"
    }
   },
   "outputs": [],
   "source": [
    "Lissajous(1, 2, 1, 2, 90, 0.5)"
   ]
  },
  {
   "cell_type": "code",
   "execution_count": 45,
   "id": "aging-soviet",
   "metadata": {
    "ExecuteTime": {
     "end_time": "2021-05-09T11:27:06.475303Z",
     "start_time": "2021-05-09T11:27:06.451132Z"
    }
   },
   "outputs": [],
   "source": [
    "turtle.clearscreen()"
   ]
  },
  {
   "cell_type": "code",
   "execution_count": 39,
   "id": "productive-rover",
   "metadata": {
    "ExecuteTime": {
     "end_time": "2021-05-09T11:16:57.580154Z",
     "start_time": "2021-05-09T11:08:26.808347Z"
    }
   },
   "outputs": [],
   "source": [
    "Lissajous(2.5, 2, 5, 4, 45, 0.2)"
   ]
  },
  {
   "cell_type": "code",
   "execution_count": 29,
   "id": "determined-healthcare",
   "metadata": {
    "ExecuteTime": {
     "end_time": "2021-05-09T10:45:13.952160Z",
     "start_time": "2021-05-09T10:45:13.927331Z"
    }
   },
   "outputs": [],
   "source": [
    "turtle.clearscreen()"
   ]
  },
  {
   "cell_type": "code",
   "execution_count": null,
   "id": "radio-drama",
   "metadata": {},
   "outputs": [],
   "source": [
    "#window = turtle.getscreen()\n",
    "#window.bgcolor(\"#FFFFFF\")\n",
    "myPen = turtle.Turtle()\n",
    "myPen.hideturtle()\n",
    "myPen.speed(0)\n",
    "myPen.pensize(1)\n",
    "myPen.color(\"#AA00AA\")"
   ]
  },
  {
   "cell_type": "code",
   "execution_count": 15,
   "id": "behavioral-creator",
   "metadata": {
    "ExecuteTime": {
     "end_time": "2021-05-10T07:08:45.047860Z",
     "start_time": "2021-05-10T07:08:45.036313Z"
    }
   },
   "outputs": [],
   "source": [
    "def vector (DIRECTION, LENGTH):\n",
    "    myPen.setheading(DIRECTION)\n",
    "    myPen.forward(LENGTH)"
   ]
  },
  {
   "cell_type": "code",
   "execution_count": 18,
   "id": "modified-broadcasting",
   "metadata": {
    "ExecuteTime": {
     "end_time": "2021-05-10T07:09:27.654584Z",
     "start_time": "2021-05-10T07:09:27.628284Z"
    }
   },
   "outputs": [],
   "source": [
    "def Lissajous2 (A, B, a, b, delta, theta):\n",
    "    myPen.penup()\n",
    "    myPen.home()\n",
    "    myPen.forward(A * 180 / (pi * a * theta) * sin(delta))   # move the center of the figure\n",
    "    for i in range(int(360 / theta) + 2):\n",
    "        xAngle = a * theta * i + delta\n",
    "        yAngle = 90 - b * theta * i\n",
    "        y = myPen.ycor()\n",
    "        vector(xAngle, A)\n",
    "        myPen.sety(y)\n",
    "        x = myPen.xcor()\n",
    "        vector(yAngle, B)\n",
    "        myPen.setx(x)\n",
    "        myPen.dot(3)"
   ]
  },
  {
   "cell_type": "code",
   "execution_count": 19,
   "id": "discrete-block",
   "metadata": {
    "ExecuteTime": {
     "end_time": "2021-05-10T07:11:23.961747Z",
     "start_time": "2021-05-10T07:09:28.142295Z"
    }
   },
   "outputs": [],
   "source": [
    "Lissajous2(1, 2, 1, 2, 90, 0.5)"
   ]
  },
  {
   "cell_type": "code",
   "execution_count": 14,
   "id": "pretty-reporter",
   "metadata": {
    "ExecuteTime": {
     "end_time": "2021-05-10T07:08:42.031371Z",
     "start_time": "2021-05-10T07:08:42.012902Z"
    }
   },
   "outputs": [],
   "source": [
    "turtle.clearscreen()"
   ]
  },
  {
   "cell_type": "code",
   "execution_count": 13,
   "id": "daily-sleeve",
   "metadata": {
    "ExecuteTime": {
     "end_time": "2021-05-10T07:08:35.191528Z",
     "start_time": "2021-05-10T07:03:18.917317Z"
    }
   },
   "outputs": [],
   "source": [
    "Lissajous2(2.5, 2, 5, 4, 45, 0.2)"
   ]
  },
  {
   "cell_type": "code",
   "execution_count": 20,
   "id": "ordered-digit",
   "metadata": {
    "ExecuteTime": {
     "end_time": "2021-05-10T07:11:30.590296Z",
     "start_time": "2021-05-10T07:11:30.571328Z"
    }
   },
   "outputs": [],
   "source": [
    "turtle.clearscreen()"
   ]
  },
  {
   "cell_type": "code",
   "execution_count": 21,
   "id": "abstract-differential",
   "metadata": {
    "ExecuteTime": {
     "end_time": "2021-05-10T07:11:31.168198Z",
     "start_time": "2021-05-10T07:11:31.149243Z"
    }
   },
   "outputs": [],
   "source": [
    "turtle.bye()"
   ]
  }
 ],
 "metadata": {
  "kernelspec": {
   "display_name": "Python 3",
   "language": "python",
   "name": "python3"
  },
  "language_info": {
   "codemirror_mode": {
    "name": "ipython",
    "version": 3
   },
   "file_extension": ".py",
   "mimetype": "text/x-python",
   "name": "python",
   "nbconvert_exporter": "python",
   "pygments_lexer": "ipython3",
   "version": "3.8.8"
  },
  "toc": {
   "base_numbering": 1,
   "nav_menu": {},
   "number_sections": true,
   "sideBar": true,
   "skip_h1_title": true,
   "title_cell": "Table of Contents",
   "title_sidebar": "Contents",
   "toc_cell": true,
   "toc_position": {
    "height": "calc(100% - 180px)",
    "left": "10px",
    "top": "150px",
    "width": "253.729px"
   },
   "toc_section_display": true,
   "toc_window_display": true
  }
 },
 "nbformat": 4,
 "nbformat_minor": 5
}
